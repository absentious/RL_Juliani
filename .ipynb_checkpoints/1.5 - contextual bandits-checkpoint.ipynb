{
 "cells": [
  {
   "cell_type": "code",
   "execution_count": 1,
   "metadata": {},
   "outputs": [],
   "source": [
    "import tensorflow as tf\n",
    "import tensorflow.contrib.slim as slim\n",
    "import numpy as np"
   ]
  },
  {
   "cell_type": "code",
   "execution_count": 2,
   "metadata": {},
   "outputs": [],
   "source": [
    "class contextual_bandit():\n",
    "    def __init__(self):\n",
    "        self.state = 0\n",
    "        \n",
    "        self.bandits = np.array([[0.2,0,-0.0,-5],[0.1,-5,1,0.25],[-5,5,5,5]])\n",
    "        self.num_bandits = self.bandits.shape[0]\n",
    "        self.num_actions = self.bandits.shape[1]\n",
    "        #the three bandits with four arms each. we want to settle on actions 4,2,1 respectively)\n",
    "    \n",
    "    def getBandit(self):\n",
    "        self.state = np.random.randInt(0,self.num_bandits)\n",
    "        return self.state\n",
    "        #return random bandit\n",
    "\n",
    "    def pullArm(self, action):\n",
    "        bandit = self.bandits[self.state,action]\n",
    "        result = np.random.randn(1)\n",
    "        \n",
    "        if result > bandit:\n",
    "            return 1\n",
    "        else:\n",
    "            return -1\n",
    "        #sample based on which lever on which bandit (action on state)\n"
   ]
  },
  {
   "cell_type": "code",
   "execution_count": 3,
   "metadata": {},
   "outputs": [],
   "source": [
    "class agent():\n",
    "    def __init__(self, lr, s_size,a_size):\n",
    "        #not sure what the fuck this is\n",
    "        \n",
    "        self.state_in = tf.placeholder(shape=[1], dtype=tf.int32)\n",
    "            #placeholder for current state input\n",
    "        state_in_OH = slim.one_hot_encoding(self.state_in,s_size)\n",
    "            #convert to one-hot (1x3 vector with nth bit as 1 where n = bandit #)\n",
    "        #print (state_in_OH)\n",
    "        output = slim.fully_connected(state_in_OH,a_size,\\\n",
    "            biases_initializer=None,activation_fn=tf.nn.sigmoid,weights_initializer=tf.ones_initializer())\n",
    "            #fully connected nn -> 3 inputs, 4 outputs, so we learn 12 weights\n",
    "            \n",
    "        self.output = tf.reshape(output, [-1])\n",
    "            #? reshape output from vertical to horizontal? not sure\n",
    "            # A. reshape to a 4-weight 1D vector\n",
    "        \n",
    "        self.chosen_action = tf.argmax(self.output, 0)\n",
    "            # take argmax as chosen action\n",
    "        \n",
    "        \n",
    "        self.reward_holder = tf.placeholder(shape=[1], dtype=tf.float32)\n",
    "        self.action_holder = tf.placeholder(shape=[1], dtype=tf.int32)\n",
    "            #placeholders for the reward and action that resulted in it\n",
    "        \n",
    "        self.responsible_weight = tf.slice(self.output, self.action_holder, [1])\n",
    "        \n",
    "        self.loss = -(tf.log(self.responsible_weight)*self.reward_holder)\n",
    "            #minimize the negative log weight * reward -> maximize weight of highest reward\n",
    "            #q. how does the optimizer select the right weights to change?\n",
    "                #a. backprop. but i don't have an intuitive understanding of how they change\n",
    "            \n",
    "        optimizer = tf.train.GradientDescentOptimizer(learning_rate=lr)\n",
    "        self.update = optimizer.minimize(self.loss)"
   ]
  },
  {
   "cell_type": "code",
   "execution_count": null,
   "metadata": {},
   "outputs": [],
   "source": []
  }
 ],
 "metadata": {
  "kernelspec": {
   "display_name": "Python 3",
   "language": "python",
   "name": "python3"
  },
  "language_info": {
   "codemirror_mode": {
    "name": "ipython",
    "version": 3
   },
   "file_extension": ".py",
   "mimetype": "text/x-python",
   "name": "python",
   "nbconvert_exporter": "python",
   "pygments_lexer": "ipython3",
   "version": "3.5.5"
  }
 },
 "nbformat": 4,
 "nbformat_minor": 2
}
